{
 "cells": [
  {
   "cell_type": "code",
   "execution_count": 1,
   "id": "eeb96baa-894a-4d8f-a167-4ad00fd130e1",
   "metadata": {},
   "outputs": [
    {
     "data": {
      "text/html": [
       "<div>\n",
       "<style scoped>\n",
       "    .dataframe tbody tr th:only-of-type {\n",
       "        vertical-align: middle;\n",
       "    }\n",
       "\n",
       "    .dataframe tbody tr th {\n",
       "        vertical-align: top;\n",
       "    }\n",
       "\n",
       "    .dataframe thead th {\n",
       "        text-align: right;\n",
       "    }\n",
       "</style>\n",
       "<table border=\"1\" class=\"dataframe\">\n",
       "  <thead>\n",
       "    <tr style=\"text-align: right;\">\n",
       "      <th></th>\n",
       "      <th>Macro F1</th>\n",
       "      <th>Micro F1</th>\n",
       "      <th>Subset Acc</th>\n",
       "    </tr>\n",
       "    <tr>\n",
       "      <th>Model</th>\n",
       "      <th></th>\n",
       "      <th></th>\n",
       "      <th></th>\n",
       "    </tr>\n",
       "  </thead>\n",
       "  <tbody>\n",
       "    <tr>\n",
       "      <th>Two Dense</th>\n",
       "      <td>0.696272</td>\n",
       "      <td>0.793699</td>\n",
       "      <td>0.742667</td>\n",
       "    </tr>\n",
       "    <tr>\n",
       "      <th>Single Dense</th>\n",
       "      <td>0.695551</td>\n",
       "      <td>0.791013</td>\n",
       "      <td>0.741075</td>\n",
       "    </tr>\n",
       "    <tr>\n",
       "      <th>Attention</th>\n",
       "      <td>0.695443</td>\n",
       "      <td>0.790663</td>\n",
       "      <td>0.742439</td>\n",
       "    </tr>\n",
       "  </tbody>\n",
       "</table>\n",
       "</div>"
      ],
      "text/plain": [
       "              Macro F1  Micro F1  Subset Acc\n",
       "Model                                       \n",
       "Two Dense     0.696272  0.793699    0.742667\n",
       "Single Dense  0.695551  0.791013    0.741075\n",
       "Attention     0.695443  0.790663    0.742439"
      ]
     },
     "metadata": {},
     "output_type": "display_data"
    },
    {
     "data": {
      "image/png": "[encoded data removed]",
      "text/plain": [
       "<Figure size 600x400 with 1 Axes>"
      ]
     },
     "metadata": {},
     "output_type": "display_data"
    }
   ],
   "source": [
    "# 📊 Compare model heads – run this AFTER training has finished\n",
    "from pathlib import Path\n",
    "import json, pandas as pd, matplotlib.pyplot as plt\n",
    "\n",
    "# ------------------------------------------------------------------\n",
    "# 1️⃣ Locate the metrics\n",
    "# ------------------------------------------------------------------\n",
    "ROOT = Path(\"/home/jovyan/Training_Model/models/sdg_bert_v1\")  # <-- same as cfg.out_dir\n",
    "MODEL_DIRS = {\n",
    "    \"Single Dense\" : ROOT / \"single_dense\",      # adjust names if you changed them\n",
    "    \"Two Dense\"    : ROOT / \"two_dense\",\n",
    "    \"Attention\"    : ROOT / \"attention_based\",   # maybe \"attention\" in your run\n",
    "}\n",
    "\n",
    "records = []\n",
    "for name, folder in MODEL_DIRS.items():\n",
    "    m_file = folder / \"metrics.json\"\n",
    "    if not m_file.exists():\n",
    "        print(f\"⚠️  {name}: metrics.json not found, skipping.\")\n",
    "        continue\n",
    "        \n",
    "    with open(m_file) as fp:\n",
    "        raw = json.load(fp)\n",
    "        \n",
    "    # script version saved like {\"test\": {...}} – pick the right level:\n",
    "    test_metrics = raw.get(\"test\", raw)          # works for both layouts\n",
    "    records.append({\n",
    "        \"Model\"      : name,\n",
    "        \"Macro F1\"   : test_metrics.get(\"eval_macro_f1\") or test_metrics.get(\"test_macro_f1\"),\n",
    "        \"Micro F1\"   : test_metrics.get(\"eval_micro_f1\") or test_metrics.get(\"test_micro_f1\"),\n",
    "        \"Subset Acc\" : test_metrics.get(\"eval_subset_accuracy\") or test_metrics.get(\"test_subset_accuracy\"),\n",
    "    })\n",
    "\n",
    "df = pd.DataFrame(records).set_index(\"Model\").sort_values(\"Macro F1\", ascending=False)\n",
    "display(df)   # nice table in a notebook\n",
    "# ------------------------------------------------------------------\n",
    "# 2️⃣ Plot!\n",
    "# ------------------------------------------------------------------\n",
    "plt.figure(figsize=(6,4))\n",
    "df[\"Macro F1\"].plot(kind=\"barh\")\n",
    "plt.title(\"Macro F1 – SDG Classifier Heads\")\n",
    "plt.xlabel(\"F1 score\")\n",
    "plt.xlim(0,1)\n",
    "plt.gca().invert_yaxis();   # best model on top\n",
    "plt.tight_layout()\n",
    "plt.show()\n"
   ]
  },
  {
   "cell_type": "code",
   "execution_count": 3,
   "id": "cb5ee319-d386-43b0-a2d3-f734daaf1de1",
   "metadata": {},
   "outputs": [
    {
     "name": "stdout",
     "output_type": "stream",
     "text": [
      "Enter your text for SDG classification (empty input or 'exit' to quit):\n"
     ]
    },
    {
     "name": "stdin",
     "output_type": "stream",
     "text": [
      "Paste text:  \"This invention discloses an intelligent building-integrated energy skin that marries semi-transparent perovskite-silicon \"             \"tandem photovoltaic modules (PV) with a micro-channel proton-exchange–membrane electrolyzer sandwiched behind the glazing. \"             \"During daylight hours, DC output from the 28 %-efficient PV stack is pulse-modulated to match the electrolyzer’s maximum \"             \"power curve, generating 99.9 %-pure hydrogen at 30 bar without external converters. At dusk, the hydrogen is metered to a \"             \"solid-oxide fuel cell, supplying baseload power that keeps the building net-positive over a 24-hour cycle.\\n\\n\"             \"An integrated thermal loop harvests waste heat from both the electrolyzer (≈60 °C) and the fuel cell (≈700 °C), \"             \"feeding an absorption chiller that offsets HVAC demand. Smart glazed louvers pivot to optimize daylighting versus power \"             \"production, guided by a reinforcement-learning controller using occupancy, weather forecasts, and dynamic electricity \"             \"tariffs.\\n\\n\"             \"Lifetime LCA shows a 58 % reduction in operational CO₂ compared with conventional PV + grid scenarios, and the façade \"             \"retrofit pays back in 8.2 years on a 40-story tower. Modular cassette design enables panel replacement from the \"             \"building interior, slashing maintenance downtime by 70 %.\"\n"
     ]
    },
    {
     "name": "stdout",
     "output_type": "stream",
     "text": [
      "Predicted SDGs above threshold:\n",
      "  LABEL_7                    0.993\n",
      "----------------------------------------\n"
     ]
    },
    {
     "name": "stdin",
     "output_type": "stream",
     "text": [
      "Paste text:  \"A cylindrical, 3 000 L rooftop rainwater tank equipped with an ultrasonic depth sensor, turbidity probe, and LTE-M \"             \"modem continuously uploads fill-level and water-quality data to a cloud dashboard. A Bayesian-optimized controller \"             \"combines 72-h NOAA rainfall forecasts with household usage profiles to decide when to purge first-flush water, \"             \"activate the UV-LED disinfection sleeve, and drive a variable-speed booster pump. Field pilots in Manila supplied \"             \"78 % of non-potable demand and cut municipal storm-drain overflow by 12 % during monsoon peaks.\"\n"
     ]
    },
    {
     "name": "stdout",
     "output_type": "stream",
     "text": [
      "No SDG predicted above threshold.\n",
      "----------------------------------------\n"
     ]
    },
    {
     "name": "stdin",
     "output_type": "stream",
     "text": [
      "Paste text:  \"A cylindrical, 3 000 L rooftop rainwater tank equipped with an ultrasonic depth sensor, turbidity probe, and LTE-M \"             \"modem continuously uploads fill-level and water-quality data to a cloud dashboard. A Bayesian-optimized controller \"             \"combines 72-h NOAA rainfall forecasts with household usage profiles to decide when to purge first-flush water, \"             \"activate the UV-LED disinfection sleeve, and drive a variable-speed booster pump. Field pilots in Manila supplied \"             \"78 % of non-potable demand and cut municipal storm-drain overflow by 12 % during monsoon peaks.\"\n"
     ]
    },
    {
     "name": "stdout",
     "output_type": "stream",
     "text": [
      "No SDG predicted above threshold.\n",
      "----------------------------------------\n"
     ]
    },
    {
     "name": "stdin",
     "output_type": "stream",
     "text": [
      "Paste text:  \"Microalgae are cultivated in photobioreactors that precipitate CaCO₃ nanofibers using flue-gas CO₂ at 40 °C. The \"             \"biogenic limestone replaces 65 % of clinker feedstock; remaining CO₂ from kiln exhaust is mineralized in situ by \"             \"injecting magnesium silicate tailings, yielding a net –110 kg CO₂e per tonne of cement. Pilot pours for highway \"             \"pavement slabs met ASTM C150 strength after 28 days and showed 8 % higher fracture toughness.\"         \n"
     ]
    },
    {
     "name": "stdout",
     "output_type": "stream",
     "text": [
      "Predicted SDGs above threshold:\n",
      "  LABEL_15                   0.916\n",
      "----------------------------------------\n"
     ]
    },
    {
     "name": "stdin",
     "output_type": "stream",
     "text": [
      "Paste text:  \"An upper-limb prosthesis printed in PA-CF composite integrates eight dry-electrode EMG pads and a quaternion-based \"             \"IMU. A tinyML CNN retrains on-device each night, learning new muscle activation patterns to improve grasp force \"             \"accuracy by 0.8 N per day. The socket’s lattice structure is parametrically generated from the wearer’s 3-D scan, \"             \"cutting fabrication time to 9 h and total cost below US$350.\"\n"
     ]
    },
    {
     "name": "stdout",
     "output_type": "stream",
     "text": [
      "Predicted SDGs above threshold:\n",
      "  LABEL_3                    0.910\n",
      "----------------------------------------\n"
     ]
    },
    {
     "name": "stdin",
     "output_type": "stream",
     "text": [
      "Paste text:   \"A nanoparticle-stabilized double-stranded RNA (dsRNA) formulation silences the cathepsin-L gene in Spodoptera \"             \"frugiperda within 48 h, causing >80 % larval mortality while leaving non-target Lepidoptera unharmed. The dsRNA is \"             \"encapsulated in chitosan–silica shells that resist UV for 14 days and degrade enzymatically in soil. Maize trial \"             \"plots across Kenya showed a 22 % yield gain compared with chemical chlorantraniliprole applications.\"\n"
     ]
    },
    {
     "name": "stdout",
     "output_type": "stream",
     "text": [
      "No SDG predicted above threshold.\n",
      "----------------------------------------\n"
     ]
    },
    {
     "name": "stdin",
     "output_type": "stream",
     "text": [
      "Paste text:  \"A plug-and-play DC bus (48 V ↔ 350 V) that auto-detects retired EV modules and re-bins cells through on-board EIS \"             \"to build a balanced 10 kWh–50 kWh stack. Power-flow is managed by a GaN bidirectional converter achieving 96.5 % \"             \"round-trip efficiency. The controller predicts PV output using a lightweight Transformer model running on an ESP32, \"             \"enabling time-shifting of 8 000+ cycle-aged cells for another 7 years of rural electrification service.\"\n"
     ]
    },
    {
     "name": "stdout",
     "output_type": "stream",
     "text": [
      "Predicted SDGs above threshold:\n",
      "  LABEL_7                    0.987\n",
      "----------------------------------------\n"
     ]
    },
    {
     "name": "stdin",
     "output_type": "stream",
     "text": [
      "Paste text:  \"A cylindrical, 3 000 L rooftop rainwater tank equipped with an ultrasonic depth sensor, turbidity probe, and LTE-M \"             \"modem continuously uploads fill-level and water-quality data to a cloud dashboard. A Bayesian-optimized controller \"             \"combines 72-h NOAA rainfall forecasts with household usage profiles to decide when to purge first-flush water, \"             \"activate the UV-LED disinfection sleeve, and drive a variable-speed booster pump. Field pilots in Manila supplied \"             \"78 % of non-potable demand and cut municipal storm-drain overflow by 12 % during monsoon peaks.\"  \n"
     ]
    },
    {
     "name": "stdout",
     "output_type": "stream",
     "text": [
      "No SDG predicted above threshold.\n",
      "----------------------------------------\n"
     ]
    },
    {
     "name": "stdin",
     "output_type": "stream",
     "text": [
      "Paste text:  A modular vertical farming system designed for urban environments integrates automated climate control, nutrient delivery, and adaptive lighting into a compact, energy-efficient architecture. Each growth module consists of stacked aeroponic trays with integrated mist nozzles that deliver a fine nutrient solution directly to the root zone, reducing water usage by 85% compared to traditional hydroponics.  The system is powered by a hybrid renewable energy unit comprising flexible solar panels and a small vertical-axis wind turbine. Real-time monitoring of pH, EC (electrical conductivity), humidity, CO₂ levels, and plant health is conducted via an array of IoT sensors. Data is aggregated on a central cloud platform and analyzed using a machine learning model trained to optimize plant growth under varying environmental conditions.  A self-adjusting LED lighting system employs a tunable spectrum to optimize photosynthesis, reducing energy consumption by 30% during non-peak hours. The modular design allows scalability from small household setups to large community farms. An integrated AI-driven irrigation controller adjusts misting intervals based on crop type, growth stage, and real-time data inputs, ensuring optimal root hydration with minimal nutrient waste.  Pilot projects in urban settings have demonstrated an average yield increase of 40% per square meter compared to conventional flatbed greenhouses, with consistent crop quality and reduced pest incidence due to controlled environmental parameters. The system is designed to promote food security in dense metropolitan areas while minimizing resource use and environmental impact.\n"
     ]
    },
    {
     "name": "stdout",
     "output_type": "stream",
     "text": [
      "Predicted SDGs above threshold:\n",
      "  LABEL_2                    0.919\n",
      "  LABEL_7                    0.615\n",
      "----------------------------------------\n"
     ]
    },
    {
     "name": "stdin",
     "output_type": "stream",
     "text": [
      "Paste text:  A decentralized biofuel production system designed to convert agricultural waste and fast-growing microalgae into biodiesel and bioethanol. The reactor employs a two-stage process: enzymatic hydrolysis followed by catalytic transesterification. In the first stage, agricultural residues such as rice husks and corn stover undergo enzymatic breakdown using cellulase derived from genetically engineered fungi, producing a fermentable sugar solution. Simultaneously, microalgae biomass cultivated in photobioreactors is harvested and processed to extract lipids using a supercritical CO₂ method.  The second stage involves catalytic transesterification, where the extracted lipids react with methanol in the presence of a sodium hydroxide catalyst, producing biodiesel. The remaining sugar-rich liquid undergoes anaerobic fermentation to generate bioethanol. The integrated heat recovery system captures excess heat from the transesterification process to maintain optimal enzymatic activity.  A cloud-based control unit monitors fermentation pH, temperature, and ethanol yield in real time, while an AI-based optimization algorithm adjusts the feedstock ratio for maximum biofuel output. In field trials, the system achieved a 78% energy conversion efficiency, producing 300 liters of biodiesel and 120 liters of bioethanol per ton of biomass input. The modular design allows deployment in rural and semi-urban areas to promote circular bioeconomies.\n"
     ]
    },
    {
     "name": "stdout",
     "output_type": "stream",
     "text": [
      "Predicted SDGs above threshold:\n",
      "  LABEL_7                    0.844\n",
      "  LABEL_12                   0.721\n",
      "----------------------------------------\n",
      "\n",
      "Interrupted by user (ESC/Ctrl+C). Exiting.\n"
     ]
    }
   ],
   "source": [
    "from transformers import AutoTokenizer, AutoModelForSequenceClassification\n",
    "import torch\n",
    "\n",
    "MODEL_DIR = \"/home/jovyan/Training_Model/models/sdg_bert_v1/single_dense/checkpoint-30784\"\n",
    "tokenizer = AutoTokenizer.from_pretrained(MODEL_DIR)\n",
    "model = AutoModelForSequenceClassification.from_pretrained(MODEL_DIR)\n",
    "\n",
    "def classify_text(text, threshold=0.7, max_length=512):\n",
    "    inputs = tokenizer(\n",
    "        text, return_tensors=\"pt\", truncation=True, padding=True, max_length=max_length\n",
    "    )\n",
    "    with torch.no_grad():\n",
    "        logits = model(**inputs).logits\n",
    "        probs = torch.sigmoid(logits).cpu().numpy()[0]\n",
    "    if hasattr(model.config, \"id2label\") and model.config.id2label:\n",
    "        id2label = {int(k): v for k, v in model.config.id2label.items()}\n",
    "    else:\n",
    "        id2label = {i: f\"sdg_{i}\" for i in range(len(probs))}\n",
    "    results = [(id2label[i], float(prob)) for i, prob in enumerate(probs) if prob >= threshold]\n",
    "    results.sort(key=lambda x: x[1], reverse=True)\n",
    "    return results\n",
    "\n",
    "# --- Main Loop ---\n",
    "print(\"Enter your text for SDG classification (empty input or 'exit' to quit):\")\n",
    "while True:\n",
    "    try:\n",
    "        text = input(\"Paste text: \")\n",
    "        if not text.strip() or text.lower() == \"exit\":\n",
    "            print(\"Exiting.\")\n",
    "            break\n",
    "        results = classify_text(text, threshold=0.5)\n",
    "        if results:\n",
    "            print(\"Predicted SDGs above threshold:\")\n",
    "            for label, prob in results:\n",
    "                print(f\"  {label:25}  {prob:.3f}\")\n",
    "        else:\n",
    "            print(\"No SDG predicted above threshold.\")\n",
    "        print(\"-\" * 40)\n",
    "    except KeyboardInterrupt:\n",
    "        print(\"\\nInterrupted by user (ESC/Ctrl+C). Exiting.\")\n",
    "        break\n"
   ]
  },
  {
   "cell_type": "code",
   "execution_count": null,
   "id": "fd72a3e9-ba67-44b9-a6a5-54d01b2bf7dd",
   "metadata": {},
   "outputs": [],
   "source": []
  }
 ],
 "metadata": {
  "kernelspec": {
   "display_name": "Python 3 (ipykernel)",
   "language": "python",
   "name": "python3"
  },
  "language_info": {
   "codemirror_mode": {
    "name": "ipython",
    "version": 3
   },
   "file_extension": ".py",
   "mimetype": "text/x-python",
   "name": "python",
   "nbconvert_exporter": "python",
   "pygments_lexer": "ipython3",
   "version": "3.12.9"
  }
 },
 "nbformat": 4,
 "nbformat_minor": 5
}
